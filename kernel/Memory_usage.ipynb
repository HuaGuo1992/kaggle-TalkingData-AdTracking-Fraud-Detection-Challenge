{
 "cells": [
  {
   "cell_type": "code",
   "execution_count": 43,
   "metadata": {},
   "outputs": [],
   "source": [
    "import pandas as pd\n",
    "%matplotlib inline"
   ]
  },
  {
   "cell_type": "code",
   "execution_count": 2,
   "metadata": {},
   "outputs": [
    {
     "name": "stdout",
     "output_type": "stream",
     "text": [
      "base_case7实际为6.py        BC_v4.py\r\n",
      "\u001b[0m\u001b[01;35mbase_case_importance.png\u001b[0m    \u001b[01;35mkernel1_all_data_importance.png\u001b[0m\r\n",
      "base_case_+.log             kernel1_all_data.log\r\n",
      "base_case_+.py              kernel1_all_data.py\r\n",
      "base_case.py                kernel1.log\r\n",
      "base_cases.ods              kernel1.py\r\n",
      "\u001b[01;35mBC1_importance.png\u001b[0m          \u001b[01;35mkernel2_importance.png\u001b[0m\r\n",
      "\u001b[01;35mBC4_importance.png\u001b[0m          kernel2.py\r\n",
      "\u001b[01;35mBC5_importance.png\u001b[0m          \u001b[01;35mkernel3_importance.png\u001b[0m\r\n",
      "\u001b[01;35mBC_90M_v1_importance.png\u001b[0m    kernel3.log\r\n",
      "BC_90M_v1.log               kernel3.py\r\n",
      "BC_90M_v1.py                MEMO_BC_all_data.csv\r\n",
      "\u001b[01;35mBC_all_data_importance.png\u001b[0m  Memory_usage.ipynb\r\n",
      "BC_all_data.log             特征\r\n",
      "BC_all_data.py\r\n"
     ]
    }
   ],
   "source": [
    "ls"
   ]
  },
  {
   "cell_type": "code",
   "execution_count": 29,
   "metadata": {},
   "outputs": [],
   "source": [
    "data = pd.read_csv('MEMO_BC_all_data.csv', names=['raw'])"
   ]
  },
  {
   "cell_type": "code",
   "execution_count": 31,
   "metadata": {},
   "outputs": [
    {
     "data": {
      "text/html": [
       "<div>\n",
       "<style scoped>\n",
       "    .dataframe tbody tr th:only-of-type {\n",
       "        vertical-align: middle;\n",
       "    }\n",
       "\n",
       "    .dataframe tbody tr th {\n",
       "        vertical-align: top;\n",
       "    }\n",
       "\n",
       "    .dataframe thead th {\n",
       "        text-align: right;\n",
       "    }\n",
       "</style>\n",
       "<table border=\"1\" class=\"dataframe\">\n",
       "  <thead>\n",
       "    <tr style=\"text-align: right;\">\n",
       "      <th></th>\n",
       "      <th>raw</th>\n",
       "    </tr>\n",
       "  </thead>\n",
       "  <tbody>\n",
       "    <tr>\n",
       "      <th>0</th>\n",
       "      <td>4945 guohuaj+  20   0 31.117g 0.029t  41184 R...</td>\n",
       "    </tr>\n",
       "    <tr>\n",
       "      <th>1</th>\n",
       "      <td>4945 guohuaj+  20   0 31.117g 0.029t  41184 R...</td>\n",
       "    </tr>\n",
       "    <tr>\n",
       "      <th>2</th>\n",
       "      <td>4945 guohuaj+  20   0 31.117g 0.029t  41184 R...</td>\n",
       "    </tr>\n",
       "    <tr>\n",
       "      <th>3</th>\n",
       "      <td>4945 guohuaj+  20   0 31.117g 0.029t  41184 R...</td>\n",
       "    </tr>\n",
       "    <tr>\n",
       "      <th>4</th>\n",
       "      <td>4945 guohuaj+  20   0 31.117g 0.029t  41184 R...</td>\n",
       "    </tr>\n",
       "  </tbody>\n",
       "</table>\n",
       "</div>"
      ],
      "text/plain": [
       "                                                 raw\n",
       "0   4945 guohuaj+  20   0 31.117g 0.029t  41184 R...\n",
       "1   4945 guohuaj+  20   0 31.117g 0.029t  41184 R...\n",
       "2   4945 guohuaj+  20   0 31.117g 0.029t  41184 R...\n",
       "3   4945 guohuaj+  20   0 31.117g 0.029t  41184 R...\n",
       "4   4945 guohuaj+  20   0 31.117g 0.029t  41184 R..."
      ]
     },
     "execution_count": 31,
     "metadata": {},
     "output_type": "execute_result"
    }
   ],
   "source": [
    "data.head()"
   ]
  },
  {
   "cell_type": "code",
   "execution_count": 49,
   "metadata": {
    "scrolled": true
   },
   "outputs": [],
   "source": [
    "def extract_memo(row):\n",
    "    try:\n",
    "        return int(row['raw'][53:55])\n",
    "    except:\n",
    "        return None\n",
    "def extract_cpu(row):\n",
    "    try:\n",
    "        return int(row['raw'][47:50])\n",
    "    except:\n",
    "        return None\n",
    "data['memory'] = data.apply(extract_memo, axis=1)\n",
    "data['cpu'] = data.apply(extract_cpu, axis=1)"
   ]
  },
  {
   "cell_type": "code",
   "execution_count": 50,
   "metadata": {},
   "outputs": [
    {
     "data": {
      "text/plain": [
       "400.0"
      ]
     },
     "execution_count": 50,
     "metadata": {},
     "output_type": "execute_result"
    }
   ],
   "source": [
    "data.cpu.max()"
   ]
  },
  {
   "cell_type": "code",
   "execution_count": 52,
   "metadata": {},
   "outputs": [
    {
     "data": {
      "text/plain": [
       "30.0"
      ]
     },
     "execution_count": 52,
     "metadata": {},
     "output_type": "execute_result"
    }
   ],
   "source": [
    "data.memory.max()"
   ]
  }
 ],
 "metadata": {
  "kernelspec": {
   "display_name": "Python 3",
   "language": "python",
   "name": "python3"
  },
  "language_info": {
   "codemirror_mode": {
    "name": "ipython",
    "version": 3
   },
   "file_extension": ".py",
   "mimetype": "text/x-python",
   "name": "python",
   "nbconvert_exporter": "python",
   "pygments_lexer": "ipython3",
   "version": "3.6.4"
  },
  "toc": {
   "nav_menu": {},
   "number_sections": true,
   "sideBar": true,
   "skip_h1_title": false,
   "title_cell": "Table of Contents",
   "title_sidebar": "Contents",
   "toc_cell": false,
   "toc_position": {},
   "toc_section_display": true,
   "toc_window_display": false
  }
 },
 "nbformat": 4,
 "nbformat_minor": 2
}
